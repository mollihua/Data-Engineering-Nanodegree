{
 "cells": [
  {
   "cell_type": "markdown",
   "metadata": {},
   "source": [
    "# Part I. ETL Pipeline for Pre-Processing the Files"
   ]
  },
  {
   "cell_type": "markdown",
   "metadata": {},
   "source": [
    "## PLEASE RUN THE FOLLOWING CODE FOR PRE-PROCESSING THE FILES"
   ]
  },
  {
   "cell_type": "markdown",
   "metadata": {},
   "source": [
    "#### Import Python packages "
   ]
  },
  {
   "cell_type": "code",
   "execution_count": 1,
   "metadata": {},
   "outputs": [],
   "source": [
    "# Import Python packages \n",
    "import pandas as pd\n",
    "import cassandra\n",
    "import re\n",
    "import os\n",
    "import glob\n",
    "import numpy as np\n",
    "import json\n",
    "import csv\n",
    "from prettytable import PrettyTable"
   ]
  },
  {
   "cell_type": "markdown",
   "metadata": {},
   "source": [
    "#### Creating list of filepaths to process original event csv data files"
   ]
  },
  {
   "cell_type": "code",
   "execution_count": 2,
   "metadata": {},
   "outputs": [
    {
     "name": "stdout",
     "output_type": "stream",
     "text": [
      "/home/workspace\n"
     ]
    }
   ],
   "source": [
    "# checking your current working directory\n",
    "print(os.getcwd())\n",
    "\n",
    "# Get your current folder and subfolder event data\n",
    "filepath = os.getcwd() + '/event_data'\n",
    "\n",
    "# Create a for loop to create a list of files and collect each filepath\n",
    "for root, dirs, files in os.walk(filepath):\n",
    "    \n",
    "# join the file path and roots with the subdirectories using glob\n",
    "    file_path_list = glob.glob(os.path.join(root,'*'))\n",
    "    #print(file_path_list)"
   ]
  },
  {
   "cell_type": "markdown",
   "metadata": {},
   "source": [
    "#### Processing the files to create the data file csv that will be used for Apache Casssandra tables"
   ]
  },
  {
   "cell_type": "code",
   "execution_count": 3,
   "metadata": {},
   "outputs": [
    {
     "name": "stdout",
     "output_type": "stream",
     "text": [
      "['Stephen Lynch', 'Logged In', 'Jayden', 'M', '0', 'Bell', '182.85669', 'free', 'Dallas-Fort Worth-Arlington, TX', 'PUT', 'NextSong', '1.54099E+12', '829', \"Jim Henson's Dead\", '200', '1.54354E+12', '91']\n"
     ]
    }
   ],
   "source": [
    "# initiating an empty list of rows that will be generated from each file\n",
    "full_data_rows_list = [] \n",
    "    \n",
    "# for every filepath in the file path list \n",
    "for f in file_path_list:\n",
    "\n",
    "# reading csv file \n",
    "    with open(f, 'r', encoding = 'utf8', newline='') as csvfile: \n",
    "        # creating a csv reader object \n",
    "        csvreader = csv.reader(csvfile) \n",
    "        next(csvreader)\n",
    "        \n",
    " # extracting each data row one by one and append it        \n",
    "        for line in csvreader:\n",
    "            #print(line)\n",
    "            full_data_rows_list.append(line) \n",
    "            \n",
    "# uncomment the code below if you would like to get total number of rows \n",
    "#print(len(full_data_rows_list))\n",
    "# uncomment the code below if you would like to check to see what the list of event data rows will look like\n",
    "print(full_data_rows_list[0])\n",
    "\n",
    "# creating a smaller event data csv file called event_datafile_full csv that will be used to insert data into the \\\n",
    "# Apache Cassandra tables\n",
    "csv.register_dialect('myDialect', quoting=csv.QUOTE_ALL, skipinitialspace=True)\n",
    "\n",
    "with open('event_datafile_new.csv', 'w', encoding = 'utf8', newline='') as f:\n",
    "    writer = csv.writer(f, dialect='myDialect')\n",
    "    writer.writerow(['artist','firstName','gender','itemInSession','lastName','length',\\\n",
    "                'level','location','sessionId','song','userId'])\n",
    "    for row in full_data_rows_list:\n",
    "        if (row[0] == ''):\n",
    "            continue\n",
    "        writer.writerow((row[0], row[2], row[3], row[4], row[5], row[6], row[7], row[8], row[12], row[13], row[16]))\n"
   ]
  },
  {
   "cell_type": "code",
   "execution_count": 4,
   "metadata": {},
   "outputs": [
    {
     "name": "stdout",
     "output_type": "stream",
     "text": [
      "6821\n"
     ]
    }
   ],
   "source": [
    "# check the number of rows in your csv file\n",
    "with open('event_datafile_new.csv', 'r', encoding = 'utf8') as f:\n",
    "    print(sum(1 for line in f))"
   ]
  },
  {
   "cell_type": "markdown",
   "metadata": {},
   "source": [
    "# Part II. Complete the Apache Cassandra coding portion of your project. \n",
    "\n",
    "## Now you are ready to work with the CSV file titled <font color=red>event_datafile_new.csv</font>, located within the Workspace directory.  The event_datafile_new.csv contains the following columns: \n",
    "- artist \n",
    "- firstName of user\n",
    "- gender of user\n",
    "- item number in session\n",
    "- last name of user\n",
    "- length of the song\n",
    "- level (paid or free song)\n",
    "- location of the user\n",
    "- sessionId\n",
    "- song title\n",
    "- userId\n",
    "\n",
    "The image below is a screenshot of what the denormalized data should appear like in the <font color=red>**event_datafile_new.csv**</font> after the code above is run:<br>\n",
    "\n",
    "<img src=\"images/image_event_datafile_new.jpg\">"
   ]
  },
  {
   "cell_type": "markdown",
   "metadata": {},
   "source": [
    "## Begin writing your Apache Cassandra code in the cells below"
   ]
  },
  {
   "cell_type": "markdown",
   "metadata": {},
   "source": [
    "#### Creating a Cluster"
   ]
  },
  {
   "cell_type": "code",
   "execution_count": 5,
   "metadata": {},
   "outputs": [],
   "source": [
    "# This should make a connection to a Cassandra instance your local machine \n",
    "# (127.0.0.1)\n",
    "\n",
    "from cassandra.cluster import Cluster\n",
    "cluster = Cluster(['127.0.0.1'])\n",
    "\n",
    "# To establish connection and begin executing queries, need a session\n",
    "session = cluster.connect()"
   ]
  },
  {
   "cell_type": "markdown",
   "metadata": {},
   "source": [
    "#### Create Keyspace"
   ]
  },
  {
   "cell_type": "code",
   "execution_count": 6,
   "metadata": {},
   "outputs": [
    {
     "data": {
      "text/plain": [
       "<cassandra.cluster.ResultSet at 0x7fd0bf5e9cc0>"
      ]
     },
     "execution_count": 6,
     "metadata": {},
     "output_type": "execute_result"
    }
   ],
   "source": [
    "# Create a Keyspace \n",
    "session.execute(\"\"\"CREATE KEYSPACE IF NOT EXISTS udacity_nosql\n",
    "WITH REPLICATION = \n",
    "{'class' : 'SimpleStrategy', 'replication_factor' : 1}\"\"\")"
   ]
  },
  {
   "cell_type": "markdown",
   "metadata": {},
   "source": [
    "#### Set Keyspace"
   ]
  },
  {
   "cell_type": "code",
   "execution_count": 7,
   "metadata": {},
   "outputs": [],
   "source": [
    "# Set KEYSPACE to the keyspace specified above\n",
    "session.set_keyspace('udacity_nosql')"
   ]
  },
  {
   "cell_type": "markdown",
   "metadata": {},
   "source": [
    "## Create queries to ask the following three questions of the data\n",
    "\n",
    "### 1. Give me the artist, song title and song's length in the music app history that was heard during  sessionId = 338, and itemInSession  = 4\n",
    "\n",
    "\n",
    "### 2. Give me only the following: name of artist, song (sorted by itemInSession) and user (first and last name) for userid = 10, sessionid = 182\n",
    "    \n",
    "\n",
    "### 3. Give me every user name (first and last) in my music app history who listened to the song 'All Hands Against His Own'\n",
    "\n",
    "\n"
   ]
  },
  {
   "cell_type": "markdown",
   "metadata": {},
   "source": [
    "## Question 1\n",
    "\n",
    "#### When working with a NoSQL database, we should think about the query first. \n",
    "\n",
    "#### (1) Expected output columns - artist, song and length of the track\n",
    "#### (2) The output should be based on sessionId and itemInSession.\n",
    "\n",
    "#### According to the expectation, the query should be:"
   ]
  },
  {
   "cell_type": "markdown",
   "metadata": {},
   "source": [
    "``` \n",
    "    SELECT artist, song, length \n",
    "    FROM TABLE_NAME \n",
    "    WHERE sessionId = value AND itemInSession = value \n",
    "```"
   ]
  },
  {
   "cell_type": "code",
   "execution_count": 8,
   "metadata": {},
   "outputs": [],
   "source": [
    "## Query 1:  Give me the artist, song title and song's length in the music app history that was heard during \\\n",
    "## sessionId = 338, and itemInSession = 4\n",
    "query1 = \"SELECT artist, song, length \\\n",
    "          FROM music_app_history \\\n",
    "          WHERE sessionId = 338 AND itemInSession = 4\"\n"
   ]
  },
  {
   "cell_type": "markdown",
   "metadata": {},
   "source": [
    "#### Next, we create the table music_app_history, and insert data into the table. "
   ]
  },
  {
   "cell_type": "code",
   "execution_count": 9,
   "metadata": {},
   "outputs": [
    {
     "data": {
      "text/plain": [
       "<cassandra.cluster.ResultSet at 0x7fd0bf5e6908>"
      ]
     },
     "execution_count": 9,
     "metadata": {},
     "output_type": "execute_result"
    }
   ],
   "source": [
    "# Create table1\n",
    "session.execute(\"DROP TABLE IF EXISTS music_app_history \")\n",
    "table1_creation = \"\"\"CREATE TABLE IF NOT EXISTS music_app_history \"\"\"\n",
    "table1_creation += \"(sessionId int, itemInSession int, \\\n",
    "                    artist text, song text, length float,  \\\n",
    "                    PRIMARY KEY (sessionID, itemInSession))\"\n",
    "\n",
    "session.execute(table1_creation)"
   ]
  },
  {
   "cell_type": "code",
   "execution_count": 10,
   "metadata": {},
   "outputs": [],
   "source": [
    "# Insert table1 \n",
    "file = 'event_datafile_new.csv'\n",
    "\n",
    "query_insert1 = \"INSERT INTO music_app_history (sessionId, itemInSession, artist, song, length)\"\n",
    "query_insert1 += \" VALUES(%s, %s, %s, %s, %s)\"\n",
    "    \n",
    "with open(file, encoding = 'utf8') as f:\n",
    "    csvreader = csv.reader(f)\n",
    "    next(csvreader) # skip header\n",
    "    for line in csvreader:\n",
    "        \n",
    "        session.execute(query_insert1, (int(line[8]), int(line[3]), line[0], line[9], float(line[5])))"
   ]
  },
  {
   "cell_type": "markdown",
   "metadata": {},
   "source": [
    "#### Finally, we execute the query to validate the results."
   ]
  },
  {
   "cell_type": "code",
   "execution_count": 11,
   "metadata": {
    "scrolled": true
   },
   "outputs": [
    {
     "name": "stdout",
     "output_type": "stream",
     "text": [
      "+-----------+---------------------------------+--------------------+\n",
      "|   artist  |               Song              |       length       |\n",
      "+-----------+---------------------------------+--------------------+\n",
      "| Faithless | Music Matters (Mark Knight Dub) | 495.30731201171875 |\n",
      "+-----------+---------------------------------+--------------------+\n"
     ]
    }
   ],
   "source": [
    "rows = session.execute(query1)\n",
    "\n",
    "# print(\"{:<14s} {:<40s} {:<14s}\".format('artist', 'Song', 'length'))\n",
    "    \n",
    "# for row in rows:\n",
    "#     print(\"{:<14s} {:<40s} {:<14f}\".format(row.artist, row.song, row.length))\n",
    "\n",
    "tbl = PrettyTable(['artist', 'Song', 'length'])\n",
    "for row in rows:\n",
    "    tbl.add_row([row.artist, row.song, row.length])\n",
    "\n",
    "print(tbl)"
   ]
  },
  {
   "cell_type": "markdown",
   "metadata": {},
   "source": [
    "## Question 2\n",
    "\n",
    "#### Think about the query first. \n",
    "\n",
    "#### (1) Expected output columns - artist, song (sorted by itemInSession) and user's first name and last name\n",
    "#### (2) The output should satisfy userid = 10 and sessionid = 182. \n",
    "#### (3) The above entails that the primary key should contain a composite partition key (userid, sessionid), and a clustering column (itemInSession).\n",
    "\n",
    "#### According to the expectation, the query should be:"
   ]
  },
  {
   "cell_type": "markdown",
   "metadata": {},
   "source": [
    "``` \n",
    "    SELECT artist, song, firstName, lastName, itemInSession\n",
    "    FROM music_app_history2 \n",
    "    WHERE userId = 10 AND sessionId = 182\n",
    "```"
   ]
  },
  {
   "cell_type": "code",
   "execution_count": 12,
   "metadata": {},
   "outputs": [],
   "source": [
    "## Query 2: Give me only the following: name of artist, song (sorted by itemInSession) and user (first and last name)\\\n",
    "## for userid = 10, sessionid = 182\n",
    "query2 = \"SELECT artist, song, firstName, lastName, itemInSession\\\n",
    "          FROM music_user_session \\\n",
    "          WHERE userId = 10 AND sessionId = 182 \""
   ]
  },
  {
   "cell_type": "markdown",
   "metadata": {},
   "source": [
    "#### Next, we create the table music_app_history, and insert data into the table. \n",
    "#### Then, we execute the query to validate the results."
   ]
  },
  {
   "cell_type": "code",
   "execution_count": 13,
   "metadata": {},
   "outputs": [
    {
     "data": {
      "text/plain": [
       "<cassandra.cluster.ResultSet at 0x7fd0bf5e0240>"
      ]
     },
     "execution_count": 13,
     "metadata": {},
     "output_type": "execute_result"
    }
   ],
   "source": [
    "# Create table2 \n",
    "session.execute(\"DROP TABLE IF EXISTS music_user_session \")\n",
    "table2_creation = \"\"\"CREATE TABLE IF NOT EXISTS music_user_session \"\"\"\n",
    "table2_creation += \"(userId int, sessionId int, itemInSession int, \\\n",
    "                     artist text, song text, firstName text, lastName text, \\\n",
    "                     PRIMARY KEY ((userId, sessionId), itemInSession)) \"\n",
    "\n",
    "session.execute(table2_creation)"
   ]
  },
  {
   "cell_type": "code",
   "execution_count": 14,
   "metadata": {},
   "outputs": [],
   "source": [
    "# Insert table2\n",
    "query_insert2 = \"INSERT INTO music_user_session (userId, sessionId, itemInsession, artist, song, firstName, lastName) \"\n",
    "query_insert2 += \" VALUES(%s, %s, %s, %s, %s, %s, %s)\"\n",
    "\n",
    "file = 'event_datafile_new.csv'\n",
    "\n",
    "with open(file, encoding = 'utf8') as f:\n",
    "    csvreader = csv.reader(f)\n",
    "    next(csvreader)\n",
    "    for line in csvreader:\n",
    "        session.execute(query_insert2, (int(line[10]), int(line[8]), int(line[3]), line[0], line[9], line[1], line[4]))"
   ]
  },
  {
   "cell_type": "code",
   "execution_count": 15,
   "metadata": {},
   "outputs": [
    {
     "name": "stdout",
     "output_type": "stream",
     "text": [
      "+---------------+-------------------+------------------------------------------------------+------------+-----------+\n",
      "| iteminsession |       artist      |                         Song                         | First Name | Last Name |\n",
      "+---------------+-------------------+------------------------------------------------------+------------+-----------+\n",
      "|       0       |  Down To The Bone |                  Keep On Keepin' On                  |   Sylvie   |    Cruz   |\n",
      "|       1       |    Three Drives   |                     Greece 2000                      |   Sylvie   |    Cruz   |\n",
      "|       2       | Sebastien Tellier |                      Kilometer                       |   Sylvie   |    Cruz   |\n",
      "|       3       |   Lonnie Gordon   | Catch You Baby (Steve Pitron & Max Sanna Radio Edit) |   Sylvie   |    Cruz   |\n",
      "+---------------+-------------------+------------------------------------------------------+------------+-----------+\n"
     ]
    }
   ],
   "source": [
    "rows2 = session.execute(query2)\n",
    "\n",
    "# print(\"{:<14s} {:<18s} {:<55s} {:<14s} {:<14s}\".format('iteminsession', 'artist', 'Song', 'First Name', 'Last Name'))\n",
    "# for row in rows2:\n",
    "#     print(\"{:<14d} {:<18s} {:<55s} {:<14s} {:<14s}\".format(row.iteminsession, row.artist, row.song, row.firstname, row.lastname))\n",
    "    \n",
    "tbl = PrettyTable(['iteminsession', 'artist', 'Song', 'First Name', 'Last Name'])\n",
    "for row in rows2:\n",
    "    tbl.add_row([row.iteminsession, row.artist, row.song, row.firstname, row.lastname])\n",
    "print(tbl)"
   ]
  },
  {
   "cell_type": "markdown",
   "metadata": {},
   "source": [
    "## Question 3\n",
    "\n",
    "#### Think about the query first. \n",
    "\n",
    "#### (1) Expected output columns - user's first name and last name, song\n",
    "#### (2) The output should satisfy song = 'All Hands Against His Own'. \n",
    "#### (3) The above entails that the primary key should be (song, userid) or (song, userid, firstName, lastName). We choose the former case as it is sufficient. \n",
    "\n",
    "#### According to the expectation, the query should be:"
   ]
  },
  {
   "cell_type": "markdown",
   "metadata": {},
   "source": [
    "```\n",
    "    SELECT firstName, lastName, song \n",
    "    FROM music_app_history3 \n",
    "    WHERE song = 'All Hands Against His Own'\n",
    "```"
   ]
  },
  {
   "cell_type": "code",
   "execution_count": 16,
   "metadata": {},
   "outputs": [],
   "source": [
    "## Query 3: Give me every user name (first and last) in my music app history who listened to the song 'All Hands Against His Own'\n",
    "query3 = \"SELECT song, firstName, lastName \\\n",
    "          FROM music_user_songAHAHO \\\n",
    "          WHERE song = 'All Hands Against His Own' \"\n",
    "    "
   ]
  },
  {
   "cell_type": "markdown",
   "metadata": {},
   "source": [
    "#### Next, we create the table music_user_songAHAHO, and insert data into the table. \n",
    "#### Then, we execute the query to validate the results."
   ]
  },
  {
   "cell_type": "code",
   "execution_count": 17,
   "metadata": {},
   "outputs": [
    {
     "data": {
      "text/plain": [
       "<cassandra.cluster.ResultSet at 0x7fd0bf5e3d68>"
      ]
     },
     "execution_count": 17,
     "metadata": {},
     "output_type": "execute_result"
    }
   ],
   "source": [
    "# Create table3\n",
    "session.execute(\"DROP TABLE IF EXISTS music_user_songAHAHO \")\n",
    "table3_creation = \"\"\"CREATE TABLE IF NOT EXISTS music_user_songAHAHO \"\"\"\n",
    "table3_creation += \"(song text, userId int, firstName text, lastName text, \\\n",
    "                    PRIMARY KEY (song, userId))\"\n",
    "\n",
    "session.execute(table3_creation)"
   ]
  },
  {
   "cell_type": "code",
   "execution_count": 18,
   "metadata": {},
   "outputs": [],
   "source": [
    "# Insert table3\n",
    "query_insert3 = \"INSERT INTO music_user_songAHAHO (song, userId, firstName, lastName) \"\n",
    "query_insert3 += \" VALUES(%s, %s, %s, %s)\"\n",
    "\n",
    "file = 'event_datafile_new.csv' \n",
    "with open(file, encoding = 'utf8') as f:\n",
    "    csvreader = csv.reader(f)\n",
    "    next(csvreader)\n",
    "    for line in csvreader:\n",
    "        session.execute(query_insert3, (line[9], int(line[10]), line[1], line[4]))"
   ]
  },
  {
   "cell_type": "code",
   "execution_count": 19,
   "metadata": {},
   "outputs": [
    {
     "name": "stdout",
     "output_type": "stream",
     "text": [
      "+------------+-----------+---------------------------+\n",
      "| First Name | Last Name |            Song           |\n",
      "+------------+-----------+---------------------------+\n",
      "| Jacqueline |   Lynch   | All Hands Against His Own |\n",
      "|   Tegan    |   Levine  | All Hands Against His Own |\n",
      "|    Sara    |  Johnson  | All Hands Against His Own |\n",
      "+------------+-----------+---------------------------+\n"
     ]
    }
   ],
   "source": [
    "rows = session.execute(query3)\n",
    "\n",
    "# print(\"{:<14s} {:<14s} {:<14s}\".format('First Name', 'Last Name', 'Song'))\n",
    "# for row in rows:\n",
    "#     print(\"{:<14s} {:<14s} {:<14s}\".format(row.firstname, row.lastname, row.song))\n",
    "\n",
    "tbl = PrettyTable(['First Name', 'Last Name', 'Song'])\n",
    "for row in rows:\n",
    "    tbl.add_row([row.firstname, row.lastname, row.song])\n",
    "print(tbl)"
   ]
  },
  {
   "cell_type": "markdown",
   "metadata": {},
   "source": [
    "### Drop the tables before closing out the sessions"
   ]
  },
  {
   "cell_type": "code",
   "execution_count": 20,
   "metadata": {},
   "outputs": [],
   "source": [
    "# Drop the table before closing out the sessions"
   ]
  },
  {
   "cell_type": "code",
   "execution_count": 21,
   "metadata": {},
   "outputs": [
    {
     "data": {
      "text/plain": [
       "<cassandra.cluster.ResultSet at 0x7fd0bf593128>"
      ]
     },
     "execution_count": 21,
     "metadata": {},
     "output_type": "execute_result"
    }
   ],
   "source": [
    "session.execute(\"DROP TABLE IF EXISTS music_app_history\")\n",
    "session.execute(\"DROP TABLE IF EXISTS music_user_session\")\n",
    "session.execute(\"DROP TABLE IF EXISTS music_user_songAHAHO\")"
   ]
  },
  {
   "cell_type": "markdown",
   "metadata": {},
   "source": [
    "### Close the session and cluster connection¶"
   ]
  },
  {
   "cell_type": "code",
   "execution_count": 22,
   "metadata": {},
   "outputs": [],
   "source": [
    "session.shutdown()\n",
    "cluster.shutdown()"
   ]
  },
  {
   "cell_type": "code",
   "execution_count": null,
   "metadata": {},
   "outputs": [],
   "source": []
  },
  {
   "cell_type": "code",
   "execution_count": null,
   "metadata": {},
   "outputs": [],
   "source": []
  }
 ],
 "metadata": {
  "kernelspec": {
   "display_name": "Python 3",
   "language": "python",
   "name": "python3"
  },
  "language_info": {
   "codemirror_mode": {
    "name": "ipython",
    "version": 3
   },
   "file_extension": ".py",
   "mimetype": "text/x-python",
   "name": "python",
   "nbconvert_exporter": "python",
   "pygments_lexer": "ipython3",
   "version": "3.7.4"
  }
 },
 "nbformat": 4,
 "nbformat_minor": 4
}
